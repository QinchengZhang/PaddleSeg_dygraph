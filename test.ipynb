{
 "metadata": {
  "language_info": {
   "codemirror_mode": {
    "name": "ipython",
    "version": 3
   },
   "file_extension": ".py",
   "mimetype": "text/x-python",
   "name": "python",
   "nbconvert_exporter": "python",
   "pygments_lexer": "ipython3",
   "version": "3.7.9-final"
  },
  "orig_nbformat": 2,
  "kernelspec": {
   "name": "python379jvsc74a57bd07e4354b4ad0dc2271245784517d4fb6a86c93da2b27d504fa4279e7cf670072b",
   "display_name": "Python 3.7.9 64-bit ('PaddleSeg': conda)"
  },
  "metadata": {
   "interpreter": {
    "hash": "7e4354b4ad0dc2271245784517d4fb6a86c93da2b27d504fa4279e7cf670072b"
   }
  }
 },
 "nbformat": 4,
 "nbformat_minor": 2,
 "cells": [
  {
   "cell_type": "code",
   "execution_count": 1,
   "metadata": {},
   "outputs": [
    {
     "output_type": "stream",
     "name": "stdout",
     "text": [
      "^C\n"
     ]
    }
   ],
   "source": [
    "!conda activate base\n",
    "!python train.py --config benchmark/hsunet.yml --save_dir saved_model --num_workers 8 --do_eval --use_vdl"
   ]
  },
  {
   "cell_type": "code",
   "execution_count": 1,
   "metadata": {},
   "outputs": [],
   "source": [
    "from paddleseg.datasets import BJSCLC, TN_SCUI2020\n",
    "from paddleseg.transforms import Resize\n",
    "import paddle"
   ]
  },
  {
   "cell_type": "code",
   "execution_count": 2,
   "metadata": {
    "tags": []
   },
   "outputs": [
    {
     "output_type": "stream",
     "name": "stderr",
     "text": [
      "E:\\anaconda3\\lib\\site-packages\\ipykernel\\ipkernel.py:283: DeprecationWarning: `should_run_async` will not call `transform_cell` automatically in the future. Please pass the result to `transformed_cell` argument and any exception that happen during thetransform in `preprocessing_exc_tuple` in IPython 7.17 and above.\n",
      "  and should_run_async(code)\n",
      "0 [1, 3, 256, 256] [1, 1, 1024, 1024]\n",
      "1 [1, 3, 256, 256] [1, 1, 1024, 1024]\n",
      "2 [1, 3, 256, 256] [1, 1, 1024, 1024]\n",
      "3 [1, 3, 256, 256] [1, 1, 1024, 1024]\n",
      "4 [1, 3, 256, 256] [1, 1, 1024, 1024]\n",
      "5 [1, 3, 256, 256] [1, 1, 1024, 1024]\n",
      "6 [1, 3, 256, 256] [1, 1, 1024, 1024]\n",
      "7 [1, 3, 256, 256] [1, 1, 1024, 1024]\n",
      "8 [1, 3, 256, 256] [1, 1, 1024, 1024]\n",
      "9 [1, 3, 256, 256] [1, 1, 1024, 1024]\n",
      "10 [1, 3, 256, 256] [1, 1, 1024, 1024]\n",
      "11 [1, 3, 256, 256] [1, 1, 1024, 1024]\n",
      "12 [1, 3, 256, 256] [1, 1, 1024, 1024]\n",
      "13 [1, 3, 256, 256] [1, 1, 1024, 1024]\n",
      "14 [1, 3, 256, 256] [1, 1, 1024, 1024]\n",
      "15 [1, 3, 256, 256] [1, 1, 1024, 1024]\n"
     ]
    }
   ],
   "source": [
    "# dataset = TN_SCUI2020('F:/DATASET/TN-SCUI2020/segmentation/augtrain', [Resize(target_size=(256, 256))], mode='val')\n",
    "dataset = BJSCLC('F:/DATASET/Beijing-small_cell_lung_cancer-pathology/patch_1024', [Resize(target_size=(256, 256))], mode='val')\n",
    "loader = paddle.io.DataLoader(\n",
    "    dataset\n",
    ")\n",
    "for iter, (im, label) in enumerate(loader):\n",
    "    print(iter, im.shape, label.shape)\n",
    "print('done')"
   ]
  },
  {
   "cell_type": "code",
   "execution_count": 1,
   "metadata": {},
   "outputs": [
    {
     "output_type": "execute_result",
     "data": {
      "text/plain": [
       "'./d/c\\\\a.png'"
      ]
     },
     "metadata": {},
     "execution_count": 1
    }
   ],
   "source": [
    "import os\n",
    "a = './c/b\\\\a.png'\n",
    "b = os.path.basename(a)\n",
    "c = './d/c'\n",
    "b = os.path.join(c, b)\n",
    "b"
   ]
  },
  {
   "cell_type": "code",
   "execution_count": 1,
   "metadata": {},
   "outputs": [],
   "source": [
    "from paddleseg.models import TransAttentionUNet, TransUNet, PSPNet\n",
    "from paddleseg.models.backbones import ResNet50_vd\n",
    "import paddle"
   ]
  },
  {
   "cell_type": "code",
   "execution_count": 2,
   "metadata": {},
   "outputs": [
    {
     "output_type": "stream",
     "name": "stdout",
     "text": [
      "2021-04-08 12:41:27 [INFO]\tNo pretrained model to load, ResNet_vd will be trained from scratch.\n"
     ]
    }
   ],
   "source": [
    "paddle.set_device('cpu')\n",
    "input = paddle.ones([12, 3, 256, 256])\n",
    "model = PSPNet(2, ResNet50_vd())\n",
    "print(paddle.summary(model, input))"
   ]
  },
  {
   "cell_type": "code",
   "execution_count": 4,
   "metadata": {},
   "outputs": [
    {
     "output_type": "stream",
     "name": "stderr",
     "text": [
      "E:\\anaconda3\\envs\\PaddleSeg\\lib\\site-packages\\ipykernel\\ipkernel.py:287: DeprecationWarning: `should_run_async` will not call `transform_cell` automatically in the future. Please pass the result to `transformed_cell` argument and any exception that happen during thetransform in `preprocessing_exc_tuple` in IPython 7.17 and above.\n  and should_run_async(code)\n"
     ]
    }
   ],
   "source": [
    "from paddleseg.utils.einops.layers.paddle import Rearrange\n",
    "from paddleseg.models.layers import ASPPModule\n",
    "from paddleseg.models import SwinTransUNet,PSPNet,Encoder,FCN\n",
    "from paddleseg.models.backbones import ResNet50_vd,HRNet_W18,swin_t\n",
    "import paddle"
   ]
  },
  {
   "cell_type": "code",
   "execution_count": 9,
   "metadata": {
    "tags": []
   },
   "outputs": [
    {
     "output_type": "stream",
     "name": "stdout",
     "text": [
      "[1024]\n",
      "E:\\anaconda3\\envs\\PaddleSeg\\lib\\site-packages\\ipykernel\\ipkernel.py:287: DeprecationWarning: `should_run_async` will not call `transform_cell` automatically in the future. Please pass the result to `transformed_cell` argument and any exception that happen during thetransform in `preprocessing_exc_tuple` in IPython 7.17 and above.\n",
      "  and should_run_async(code)\n"
     ]
    },
    {
     "output_type": "execute_result",
     "data": {
      "text/plain": [
       "[1, 3, 256, 256]"
      ]
     },
     "metadata": {},
     "execution_count": 9
    }
   ],
   "source": [
    "a = paddle.ones([1,3,256,256])\n",
    "backbone = swin_t()\n",
    "print(backbone.feat_channels)\n",
    "model = FCN(2, backbone=backbone)\n",
    "conv = paddle.nn.Conv2D(3,3,3,padding=1)\n",
    "b = conv(a)\n",
    "b.shape"
   ]
  },
  {
   "cell_type": "code",
   "execution_count": null,
   "metadata": {},
   "outputs": [],
   "source": []
  }
 ]
}