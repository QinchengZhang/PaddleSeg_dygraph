{
 "metadata": {
  "language_info": {
   "codemirror_mode": {
    "name": "ipython",
    "version": 3
   },
   "file_extension": ".py",
   "mimetype": "text/x-python",
   "name": "python",
   "nbconvert_exporter": "python",
   "pygments_lexer": "ipython3",
   "version": "3.7.6"
  },
  "orig_nbformat": 2,
  "kernelspec": {
   "name": "python376jvsc74a57bd0a8f61be024eba58adef938c9aa1e29e02cb3dece83a5348b1a2dafd16a070453",
   "display_name": "Python 3.7.6 64-bit ('base': conda)"
  }
 },
 "nbformat": 4,
 "nbformat_minor": 2,
 "cells": [
  {
   "cell_type": "code",
   "execution_count": 1,
   "metadata": {},
   "outputs": [
    {
     "output_type": "stream",
     "name": "stdout",
     "text": [
      "^C\n"
     ]
    }
   ],
   "source": [
    "!conda activate base\n",
    "!python train.py --config benchmark/hsunet.yml --save_dir saved_model --num_workers 8 --do_eval --use_vdl"
   ]
  },
  {
   "cell_type": "code",
   "execution_count": 1,
   "metadata": {},
   "outputs": [],
   "source": [
    "from paddleseg.datasets import BJSCLC, TN_SCUI2020\n",
    "from paddleseg.transforms import Resize\n",
    "import paddle"
   ]
  },
  {
   "cell_type": "code",
   "execution_count": 2,
   "metadata": {
    "tags": []
   },
   "outputs": [
    {
     "output_type": "stream",
     "name": "stderr",
     "text": [
      "E:\\anaconda3\\lib\\site-packages\\ipykernel\\ipkernel.py:283: DeprecationWarning: `should_run_async` will not call `transform_cell` automatically in the future. Please pass the result to `transformed_cell` argument and any exception that happen during thetransform in `preprocessing_exc_tuple` in IPython 7.17 and above.\n",
      "  and should_run_async(code)\n",
      "0 [1, 3, 256, 256] [1, 1, 1024, 1024]\n",
      "1 [1, 3, 256, 256] [1, 1, 1024, 1024]\n",
      "2 [1, 3, 256, 256] [1, 1, 1024, 1024]\n",
      "3 [1, 3, 256, 256] [1, 1, 1024, 1024]\n",
      "4 [1, 3, 256, 256] [1, 1, 1024, 1024]\n",
      "5 [1, 3, 256, 256] [1, 1, 1024, 1024]\n",
      "6 [1, 3, 256, 256] [1, 1, 1024, 1024]\n",
      "7 [1, 3, 256, 256] [1, 1, 1024, 1024]\n",
      "8 [1, 3, 256, 256] [1, 1, 1024, 1024]\n",
      "9 [1, 3, 256, 256] [1, 1, 1024, 1024]\n",
      "10 [1, 3, 256, 256] [1, 1, 1024, 1024]\n",
      "11 [1, 3, 256, 256] [1, 1, 1024, 1024]\n",
      "12 [1, 3, 256, 256] [1, 1, 1024, 1024]\n",
      "13 [1, 3, 256, 256] [1, 1, 1024, 1024]\n",
      "14 [1, 3, 256, 256] [1, 1, 1024, 1024]\n",
      "15 [1, 3, 256, 256] [1, 1, 1024, 1024]\n"
     ]
    }
   ],
   "source": [
    "# dataset = TN_SCUI2020('F:/DATASET/TN-SCUI2020/segmentation/augtrain', [Resize(target_size=(256, 256))], mode='val')\n",
    "dataset = BJSCLC('F:/DATASET/Beijing-small_cell_lung_cancer-pathology/patch_1024', [Resize(target_size=(256, 256))], mode='val')\n",
    "loader = paddle.io.DataLoader(\n",
    "    dataset\n",
    ")\n",
    "for iter, (im, label) in enumerate(loader):\n",
    "    print(iter, im.shape, label.shape)\n",
    "print('done')"
   ]
  },
  {
   "cell_type": "code",
   "execution_count": 1,
   "metadata": {},
   "outputs": [
    {
     "output_type": "execute_result",
     "data": {
      "text/plain": [
       "'./d/c\\\\a.png'"
      ]
     },
     "metadata": {},
     "execution_count": 1
    }
   ],
   "source": [
    "import os\n",
    "a = './c/b\\\\a.png'\n",
    "b = os.path.basename(a)\n",
    "c = './d/c'\n",
    "b = os.path.join(c, b)\n",
    "b"
   ]
  },
  {
   "cell_type": "code",
   "execution_count": 1,
   "metadata": {},
   "outputs": [],
   "source": [
    "from paddleseg.models import TransAttentionUNet, TransUNet, PSPNet\n",
    "from paddleseg.models.backbones import ResNet50_vd\n",
    "import paddle"
   ]
  },
  {
   "cell_type": "code",
   "execution_count": 2,
   "metadata": {},
   "outputs": [
    {
     "output_type": "stream",
     "name": "stdout",
     "text": [
      "2021-04-08 12:41:27 [INFO]\tNo pretrained model to load, ResNet_vd will be trained from scratch.\n"
     ]
    }
   ],
   "source": [
    "paddle.set_device('cpu')\n",
    "input = paddle.ones([12, 3, 256, 256])\n",
    "model = PSPNet(2, ResNet50_vd())\n",
    "print(paddle.summary(model, input))"
   ]
  },
  {
   "cell_type": "code",
   "execution_count": 1,
   "metadata": {},
   "outputs": [
    {
     "output_type": "execute_result",
     "data": {
      "text/plain": [
       "CPUPlace"
      ]
     },
     "metadata": {},
     "execution_count": 1
    }
   ],
   "source": [
    "from paddleseg.utils.einops.layers.paddle import Rearrange\n",
    "from paddleseg.models.layers import SwinTransformer,swin_t,ASPPModule\n",
    "from paddleseg.models import SwinTransUNet,PSPNet,Encoder\n",
    "from paddleseg.models.backbones import ResNet50_vd\n",
    "import paddle\n",
    "paddle.set_device('cpu')"
   ]
  },
  {
   "cell_type": "code",
   "execution_count": 5,
   "metadata": {
    "tags": []
   },
   "outputs": [
    {
     "output_type": "stream",
     "name": "stdout",
     "text": [
      "input size: [1, 64, 256, 256]\n",
      "down sample: [1, 128, 128, 128]\n",
      "down sample: [1, 256, 64, 64]\n",
      "down sample: [1, 512, 32, 32]\n",
      "down sample: [1, 512, 16, 16]\n"
     ]
    },
    {
     "output_type": "execute_result",
     "data": {
      "text/plain": [
       "[1, 512, 16, 16]"
      ]
     },
     "metadata": {},
     "execution_count": 5
    }
   ],
   "source": [
    "a = paddle.ones([1,3,256,256])\n",
    "model = Encoder()\n",
    "aspp = ASPPModule((6,12,18,24), 512, 512,False)\n",
    "b = model(a)\n",
    "c = aspp(b[0])\n",
    "c.shape"
   ]
  },
  {
   "cell_type": "code",
   "execution_count": null,
   "metadata": {},
   "outputs": [],
   "source": []
  }
 ]
}