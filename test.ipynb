{
 "metadata": {
  "language_info": {
   "codemirror_mode": {
    "name": "ipython",
    "version": 3
   },
   "file_extension": ".py",
   "mimetype": "text/x-python",
   "name": "python",
   "nbconvert_exporter": "python",
   "pygments_lexer": "ipython3",
   "version": "3.7.6-final"
  },
  "orig_nbformat": 2,
  "kernelspec": {
   "name": "python3",
   "display_name": "Python 3",
   "language": "python"
  }
 },
 "nbformat": 4,
 "nbformat_minor": 2,
 "cells": [
  {
   "cell_type": "code",
   "execution_count": 1,
   "metadata": {},
   "outputs": [
    {
     "output_type": "stream",
     "name": "stdout",
     "text": [
      "^C\n"
     ]
    }
   ],
   "source": [
    "!conda activate base\n",
    "!python train.py --config benchmark/hsunet.yml --save_dir saved_model --num_workers 8 --do_eval --use_vdl"
   ]
  },
  {
   "cell_type": "code",
   "execution_count": 1,
   "metadata": {},
   "outputs": [
    {
     "output_type": "stream",
     "name": "stdout",
     "text": [
      "Tensor(shape=[1], dtype=float32, place=CPUPlace, stop_gradient=True,\n       [0.16666734])\n"
     ]
    }
   ],
   "source": [
    "from paddleseg.models.losses import DiceLoss\n",
    "import paddle\n",
    "paddle.set_device('cpu')\n",
    "input = paddle.to_tensor([[[[0.01,0.02,0.98],[0.66,0.15,0.78],[0.20,0.16,0.09]],[[0.96,0.85,0.14],[0.20,0.86,0.04],[0.78,0.79,0.80]]]], dtype='float32')\n",
    "# paddle.argmax(input, axis=1)\n",
    "label = paddle.to_tensor([[[1,1,0],[1,1,0],[0,1,1]]])\n",
    "loss_func = DiceLoss()\n",
    "loss = loss_func(input, label)\n",
    "print(loss)"
   ]
  },
  {
   "cell_type": "code",
   "execution_count": null,
   "metadata": {},
   "outputs": [],
   "source": []
  }
 ]
}