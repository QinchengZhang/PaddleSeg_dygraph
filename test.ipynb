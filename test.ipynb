{
 "metadata": {
  "language_info": {
   "codemirror_mode": {
    "name": "ipython",
    "version": 3
   },
   "file_extension": ".py",
   "mimetype": "text/x-python",
   "name": "python",
   "nbconvert_exporter": "python",
   "pygments_lexer": "ipython3",
   "version": "3.7.6-final"
  },
  "orig_nbformat": 2,
  "kernelspec": {
   "name": "python3",
   "display_name": "Python 3",
   "language": "python"
  }
 },
 "nbformat": 4,
 "nbformat_minor": 2,
 "cells": [
  {
   "cell_type": "code",
   "execution_count": 1,
   "metadata": {},
   "outputs": [
    {
     "output_type": "stream",
     "name": "stdout",
     "text": [
      "^C\n"
     ]
    }
   ],
   "source": [
    "!conda activate base\n",
    "!python train.py --config benchmark/hsunet.yml --save_dir saved_model --num_workers 8 --do_eval --use_vdl"
   ]
  },
  {
   "cell_type": "code",
   "execution_count": 1,
   "metadata": {},
   "outputs": [
    {
     "output_type": "stream",
     "name": "stdout",
     "text": [
      "Tensor(shape=[1], dtype=float32, place=CPUPlace, stop_gradient=True,\n       [0.16666734])\n"
     ]
    }
   ],
   "source": [
    "from paddleseg.models.losses import DiceLoss\n",
    "import paddle\n",
    "paddle.set_device('cpu')\n",
    "input = paddle.to_tensor([[[[0.01,0.02,0.98],[0.66,0.15,0.78],[0.20,0.16,0.09]],[[0.96,0.85,0.14],[0.20,0.86,0.04],[0.78,0.79,0.80]]]], dtype='float32')\n",
    "# paddle.argmax(input, axis=1)\n",
    "label = paddle.to_tensor([[[1,1,0],[1,1,0],[0,1,1]]])\n",
    "loss_func = DiceLoss()\n",
    "loss = loss_func(input, label)\n",
    "print(loss)"
   ]
  },
  {
   "cell_type": "code",
   "execution_count": 1,
   "metadata": {},
   "outputs": [
    {
     "output_type": "error",
     "ename": "EnforceNotMet",
     "evalue": "\n\n--------------------------------------\nC++ Traceback (most recent call last):\n--------------------------------------\nNot support stack backtrace yet.\n\n----------------------\nError Message Summary:\n----------------------\nInvalidArgumentError: The 'shape' in ReshapeOp is invalid. The input tensor X'size must be equal to the capacity of 'shape'. But received X's shape = [1, 64], X's size = 64, 'shape' is [1, 64, 16, 4], the capacity of 'shape' is 4096.\n  [Hint: Expected capacity == in_size, but received capacity:4096 != in_size:64.] (at D:\\2.0.0-rc0\\paddle\\paddle\\fluid\\operators\\reshape_op.cc:222)\n  [operator < reshape2 > error]",
     "traceback": [
      "\u001b[1;31m---------------------------------------------------------------------------\u001b[0m",
      "\u001b[1;31mEnforceNotMet\u001b[0m                             Traceback (most recent call last)",
      "\u001b[1;32m<ipython-input-1-4d3a87159447>\u001b[0m in \u001b[0;36m<module>\u001b[1;34m\u001b[0m\n\u001b[0;32m      4\u001b[0m \u001b[0minput_box_embeddings\u001b[0m \u001b[1;33m=\u001b[0m \u001b[0mpaddle\u001b[0m\u001b[1;33m.\u001b[0m\u001b[0mones\u001b[0m\u001b[1;33m(\u001b[0m\u001b[1;33m[\u001b[0m\u001b[1;36m1\u001b[0m\u001b[1;33m,\u001b[0m\u001b[1;36m64\u001b[0m\u001b[1;33m]\u001b[0m\u001b[1;33m)\u001b[0m\u001b[1;33m\u001b[0m\u001b[1;33m\u001b[0m\u001b[0m\n\u001b[0;32m      5\u001b[0m \u001b[0minput_image_encoding\u001b[0m \u001b[1;33m=\u001b[0m \u001b[0mpaddle\u001b[0m\u001b[1;33m.\u001b[0m\u001b[0mones\u001b[0m\u001b[1;33m(\u001b[0m\u001b[1;33m[\u001b[0m\u001b[1;36m1\u001b[0m\u001b[1;33m,\u001b[0m \u001b[1;36m64\u001b[0m\u001b[1;33m,\u001b[0m \u001b[1;36m28\u001b[0m\u001b[1;33m,\u001b[0m \u001b[1;36m28\u001b[0m\u001b[1;33m]\u001b[0m\u001b[1;33m)\u001b[0m\u001b[1;33m\u001b[0m\u001b[1;33m\u001b[0m\u001b[0m\n\u001b[1;32m----> 6\u001b[1;33m \u001b[0moutput\u001b[0m \u001b[1;33m=\u001b[0m \u001b[0mmha\u001b[0m\u001b[1;33m(\u001b[0m\u001b[0minput_box_embeddings\u001b[0m\u001b[1;33m,\u001b[0m \u001b[0minput_image_encoding\u001b[0m\u001b[1;33m)\u001b[0m\u001b[1;33m\u001b[0m\u001b[1;33m\u001b[0m\u001b[0m\n\u001b[0m",
      "\u001b[1;32mD:\\Anaconda3\\lib\\site-packages\\paddle\\fluid\\dygraph\\layers.py\u001b[0m in \u001b[0;36m__call__\u001b[1;34m(self, *inputs, **kwargs)\u001b[0m\n\u001b[0;32m    827\u001b[0m \u001b[1;33m\u001b[0m\u001b[0m\n\u001b[0;32m    828\u001b[0m         \u001b[1;32mwith\u001b[0m \u001b[0mparam_guard\u001b[0m\u001b[1;33m(\u001b[0m\u001b[0mself\u001b[0m\u001b[1;33m.\u001b[0m\u001b[0m_parameters\u001b[0m\u001b[1;33m)\u001b[0m\u001b[1;33m,\u001b[0m \u001b[0mparam_guard\u001b[0m\u001b[1;33m(\u001b[0m\u001b[0mself\u001b[0m\u001b[1;33m.\u001b[0m\u001b[0m_buffers\u001b[0m\u001b[1;33m)\u001b[0m\u001b[1;33m:\u001b[0m\u001b[1;33m\u001b[0m\u001b[1;33m\u001b[0m\u001b[0m\n\u001b[1;32m--> 829\u001b[1;33m             \u001b[0moutputs\u001b[0m \u001b[1;33m=\u001b[0m \u001b[0mself\u001b[0m\u001b[1;33m.\u001b[0m\u001b[0mforward\u001b[0m\u001b[1;33m(\u001b[0m\u001b[1;33m*\u001b[0m\u001b[0minputs\u001b[0m\u001b[1;33m,\u001b[0m \u001b[1;33m**\u001b[0m\u001b[0mkwargs\u001b[0m\u001b[1;33m)\u001b[0m\u001b[1;33m\u001b[0m\u001b[1;33m\u001b[0m\u001b[0m\n\u001b[0m\u001b[0;32m    830\u001b[0m \u001b[1;33m\u001b[0m\u001b[0m\n\u001b[0;32m    831\u001b[0m         \u001b[1;32mfor\u001b[0m \u001b[0mforward_post_hook\u001b[0m \u001b[1;32min\u001b[0m \u001b[0mself\u001b[0m\u001b[1;33m.\u001b[0m\u001b[0m_forward_post_hooks\u001b[0m\u001b[1;33m.\u001b[0m\u001b[0mvalues\u001b[0m\u001b[1;33m(\u001b[0m\u001b[1;33m)\u001b[0m\u001b[1;33m:\u001b[0m\u001b[1;33m\u001b[0m\u001b[1;33m\u001b[0m\u001b[0m\n",
      "\u001b[1;32mg:\\TJUZQC\\code\\python\\PaddleSeg_dygraph\\paddleseg\\models\\layers\\layer_libs.py\u001b[0m in \u001b[0;36mforward\u001b[1;34m(self, input_box_embeddings, input_image_encoding)\u001b[0m\n\u001b[0;32m    304\u001b[0m                                                            \u001b[0moutput_box_embeddings\u001b[0m\u001b[1;33m.\u001b[0m\u001b[0mshape\u001b[0m\u001b[1;33m[\u001b[0m\u001b[1;36m1\u001b[0m\u001b[1;33m]\u001b[0m\u001b[1;33m,\u001b[0m\u001b[1;33m\u001b[0m\u001b[1;33m\u001b[0m\u001b[0m\n\u001b[0;32m    305\u001b[0m                                                            \u001b[0mself\u001b[0m\u001b[1;33m.\u001b[0m\u001b[0mnumber_of_heads\u001b[0m\u001b[1;33m,\u001b[0m\u001b[1;33m\u001b[0m\u001b[1;33m\u001b[0m\u001b[0m\n\u001b[1;32m--> 306\u001b[1;33m                                                            self.hidden_features // self.number_of_heads])\n\u001b[0m\u001b[0;32m    307\u001b[0m         \u001b[1;31m# Reshape output image encoding\u001b[0m\u001b[1;33m\u001b[0m\u001b[1;33m\u001b[0m\u001b[1;33m\u001b[0m\u001b[0m\n\u001b[0;32m    308\u001b[0m         output_image_encoding = output_image_encoding.reshape([output_image_encoding.shape[0],\n",
      "\u001b[1;32mD:\\Anaconda3\\lib\\site-packages\\paddle\\tensor\\manipulation.py\u001b[0m in \u001b[0;36mreshape\u001b[1;34m(x, shape, name)\u001b[0m\n\u001b[0;32m   1383\u001b[0m             \u001b[1;31m# the shape is [8, 6].\u001b[0m\u001b[1;33m\u001b[0m\u001b[1;33m\u001b[0m\u001b[1;33m\u001b[0m\u001b[0m\n\u001b[0;32m   1384\u001b[0m     \"\"\"\n\u001b[1;32m-> 1385\u001b[1;33m     \u001b[1;32mreturn\u001b[0m \u001b[0mpaddle\u001b[0m\u001b[1;33m.\u001b[0m\u001b[0mfluid\u001b[0m\u001b[1;33m.\u001b[0m\u001b[0mlayers\u001b[0m\u001b[1;33m.\u001b[0m\u001b[0mreshape\u001b[0m\u001b[1;33m(\u001b[0m\u001b[0mx\u001b[0m\u001b[1;33m=\u001b[0m\u001b[0mx\u001b[0m\u001b[1;33m,\u001b[0m \u001b[0mshape\u001b[0m\u001b[1;33m=\u001b[0m\u001b[0mshape\u001b[0m\u001b[1;33m,\u001b[0m \u001b[0mname\u001b[0m\u001b[1;33m=\u001b[0m\u001b[0mname\u001b[0m\u001b[1;33m)\u001b[0m\u001b[1;33m\u001b[0m\u001b[1;33m\u001b[0m\u001b[0m\n\u001b[0m\u001b[0;32m   1386\u001b[0m \u001b[1;33m\u001b[0m\u001b[0m\n\u001b[0;32m   1387\u001b[0m \u001b[1;33m\u001b[0m\u001b[0m\n",
      "\u001b[1;32mD:\\Anaconda3\\lib\\site-packages\\paddle\\fluid\\layers\\nn.py\u001b[0m in \u001b[0;36mreshape\u001b[1;34m(x, shape, actual_shape, act, inplace, name)\u001b[0m\n\u001b[0;32m   6156\u001b[0m                 \u001b[1;32mfor\u001b[0m \u001b[0mitem\u001b[0m \u001b[1;32min\u001b[0m \u001b[0mshape\u001b[0m\u001b[1;33m\u001b[0m\u001b[1;33m\u001b[0m\u001b[0m\n\u001b[0;32m   6157\u001b[0m             ]\n\u001b[1;32m-> 6158\u001b[1;33m             \u001b[0mout\u001b[0m\u001b[1;33m,\u001b[0m \u001b[0m_\u001b[0m \u001b[1;33m=\u001b[0m \u001b[0mcore\u001b[0m\u001b[1;33m.\u001b[0m\u001b[0mops\u001b[0m\u001b[1;33m.\u001b[0m\u001b[0mreshape2\u001b[0m\u001b[1;33m(\u001b[0m\u001b[0mx\u001b[0m\u001b[1;33m,\u001b[0m \u001b[1;34m'shape'\u001b[0m\u001b[1;33m,\u001b[0m \u001b[0mshape\u001b[0m\u001b[1;33m)\u001b[0m\u001b[1;33m\u001b[0m\u001b[1;33m\u001b[0m\u001b[0m\n\u001b[0m\u001b[0;32m   6159\u001b[0m             \u001b[1;32mreturn\u001b[0m \u001b[0mdygraph_utils\u001b[0m\u001b[1;33m.\u001b[0m\u001b[0m_append_activation_in_dygraph\u001b[0m\u001b[1;33m(\u001b[0m\u001b[0mout\u001b[0m\u001b[1;33m,\u001b[0m \u001b[0mact\u001b[0m\u001b[1;33m)\u001b[0m\u001b[1;33m\u001b[0m\u001b[1;33m\u001b[0m\u001b[0m\n\u001b[0;32m   6160\u001b[0m \u001b[1;33m\u001b[0m\u001b[0m\n",
      "\u001b[1;31mEnforceNotMet\u001b[0m: \n\n--------------------------------------\nC++ Traceback (most recent call last):\n--------------------------------------\nNot support stack backtrace yet.\n\n----------------------\nError Message Summary:\n----------------------\nInvalidArgumentError: The 'shape' in ReshapeOp is invalid. The input tensor X'size must be equal to the capacity of 'shape'. But received X's shape = [1, 64], X's size = 64, 'shape' is [1, 64, 16, 4], the capacity of 'shape' is 4096.\n  [Hint: Expected capacity == in_size, but received capacity:4096 != in_size:64.] (at D:\\2.0.0-rc0\\paddle\\paddle\\fluid\\operators\\reshape_op.cc:222)\n  [operator < reshape2 > error]"
     ]
    }
   ],
   "source": [
    "from paddleseg.models.layers import MultiHeadAttention\n",
    "import paddle\n",
    "mha = MultiHeadAttention()\n",
    "input_box_embeddings = paddle.ones([1,64])\n",
    "input_image_encoding = paddle.ones([1, 64, 28, 28])\n",
    "output = mha(input_box_embeddings, input_image_encoding)"
   ]
  },
  {
   "cell_type": "code",
   "execution_count": null,
   "metadata": {},
   "outputs": [],
   "source": []
  }
 ]
}