{
 "metadata": {
  "language_info": {
   "codemirror_mode": {
    "name": "ipython",
    "version": 3
   },
   "file_extension": ".py",
   "mimetype": "text/x-python",
   "name": "python",
   "nbconvert_exporter": "python",
   "pygments_lexer": "ipython3",
   "version": "3.7.6"
  },
  "orig_nbformat": 2,
  "kernelspec": {
   "name": "python376jvsc74a57bd0a8f61be024eba58adef938c9aa1e29e02cb3dece83a5348b1a2dafd16a070453",
   "display_name": "Python 3.7.6 64-bit ('base': conda)"
  }
 },
 "nbformat": 4,
 "nbformat_minor": 2,
 "cells": [
  {
   "cell_type": "code",
   "execution_count": 1,
   "metadata": {},
   "outputs": [
    {
     "output_type": "stream",
     "name": "stdout",
     "text": [
      "^C\n"
     ]
    }
   ],
   "source": [
    "!conda activate base\n",
    "!python train.py --config benchmark/hsunet.yml --save_dir saved_model --num_workers 8 --do_eval --use_vdl"
   ]
  },
  {
   "cell_type": "code",
   "execution_count": 1,
   "metadata": {},
   "outputs": [],
   "source": [
    "from paddleseg.datasets import BJSCLC, TN_SCUI2020\n",
    "from paddleseg.transforms import Resize\n",
    "import paddle"
   ]
  },
  {
   "cell_type": "code",
   "execution_count": 2,
   "metadata": {
    "tags": []
   },
   "outputs": [
    {
     "output_type": "stream",
     "name": "stderr",
     "text": [
      "E:\\anaconda3\\lib\\site-packages\\ipykernel\\ipkernel.py:283: DeprecationWarning: `should_run_async` will not call `transform_cell` automatically in the future. Please pass the result to `transformed_cell` argument and any exception that happen during thetransform in `preprocessing_exc_tuple` in IPython 7.17 and above.\n",
      "  and should_run_async(code)\n",
      "0 [1, 3, 256, 256] [1, 1, 1024, 1024]\n",
      "1 [1, 3, 256, 256] [1, 1, 1024, 1024]\n",
      "2 [1, 3, 256, 256] [1, 1, 1024, 1024]\n",
      "3 [1, 3, 256, 256] [1, 1, 1024, 1024]\n",
      "4 [1, 3, 256, 256] [1, 1, 1024, 1024]\n",
      "5 [1, 3, 256, 256] [1, 1, 1024, 1024]\n",
      "6 [1, 3, 256, 256] [1, 1, 1024, 1024]\n",
      "7 [1, 3, 256, 256] [1, 1, 1024, 1024]\n",
      "8 [1, 3, 256, 256] [1, 1, 1024, 1024]\n",
      "9 [1, 3, 256, 256] [1, 1, 1024, 1024]\n",
      "10 [1, 3, 256, 256] [1, 1, 1024, 1024]\n",
      "11 [1, 3, 256, 256] [1, 1, 1024, 1024]\n",
      "12 [1, 3, 256, 256] [1, 1, 1024, 1024]\n",
      "13 [1, 3, 256, 256] [1, 1, 1024, 1024]\n",
      "14 [1, 3, 256, 256] [1, 1, 1024, 1024]\n",
      "15 [1, 3, 256, 256] [1, 1, 1024, 1024]\n"
     ]
    }
   ],
   "source": [
    "# dataset = TN_SCUI2020('F:/DATASET/TN-SCUI2020/segmentation/augtrain', [Resize(target_size=(256, 256))], mode='val')\n",
    "dataset = BJSCLC('F:/DATASET/Beijing-small_cell_lung_cancer-pathology/patch_1024', [Resize(target_size=(256, 256))], mode='val')\n",
    "loader = paddle.io.DataLoader(\n",
    "    dataset\n",
    ")\n",
    "for iter, (im, label) in enumerate(loader):\n",
    "    print(iter, im.shape, label.shape)\n",
    "print('done')"
   ]
  },
  {
   "cell_type": "code",
   "execution_count": 1,
   "metadata": {},
   "outputs": [
    {
     "output_type": "execute_result",
     "data": {
      "text/plain": [
       "'./d/c\\\\a.png'"
      ]
     },
     "metadata": {},
     "execution_count": 1
    }
   ],
   "source": [
    "import os\n",
    "a = './c/b\\\\a.png'\n",
    "b = os.path.basename(a)\n",
    "c = './d/c'\n",
    "b = os.path.join(c, b)\n",
    "b"
   ]
  },
  {
   "cell_type": "code",
   "execution_count": 3,
   "metadata": {},
   "outputs": [],
   "source": [
    "from paddleseg.models import TransAttentionUNet, TransUNet\n",
    "import paddle"
   ]
  },
  {
   "cell_type": "code",
   "execution_count": 8,
   "metadata": {},
   "outputs": [
    {
     "output_type": "execute_result",
     "data": {
      "text/plain": [
       "Tensor(shape=[12, 2, 256, 256], dtype=float32, place=CPUPlace, stop_gradient=False,\n",
       "       [[[[-6.41670513, -4.08628273, -3.40300465, ..., -7.82472420, -1.81527853, -1.40561044],\n",
       "          [-3.40839219, -1.32107186, -0.09299549, ...,  1.58091462,  1.24740458,  1.59446502],\n",
       "          [-1.62435448,  5.14885950,  6.02009916, ...,  1.34722352,  0.44913828, -1.05421615],\n",
       "          ...,\n",
       "          [-3.87559080, -2.59762669, -3.91204786, ..., -0.31464696, -0.40234673, -3.41121340],\n",
       "          [-3.64505649, -2.66108274, -0.96752858, ..., -1.22896838,  1.25253069, -4.90331125],\n",
       "          [-1.37774408,  0.61467981,  2.40015340, ...,  3.02927709, -0.03459132, -1.17083168]],\n",
       "\n",
       "         [[ 1.24877274,  4.15316105,  4.64830303, ...,  2.88127375,  1.57755852,  2.02193856],\n",
       "          [ 1.44254994,  4.34406710,  6.71793222, ...,  3.90150714,  2.83841872, -1.63336122],\n",
       "          [ 2.23648071,  3.79896116,  3.50979447, ...,  1.28868771, -1.51648331, -1.45684433],\n",
       "          ...,\n",
       "          [ 6.03131676,  9.47463512,  4.31612587, ...,  0.19604433,  3.11683989,  2.53597546],\n",
       "          [-0.07552058,  1.48528063,  4.00990486, ...,  1.23827934,  3.64362812,  3.16688228],\n",
       "          [-1.02458525, -5.20825911, -3.82318640, ..., -2.44066811, -1.21969450, -0.04586370]]],\n",
       "\n",
       "\n",
       "        [[[-6.99258327, -3.61979675, -3.51015949, ..., -6.47948742, -0.80983353, -1.51871598],\n",
       "          [-3.63283348, -1.26070738, -0.52417660, ...,  0.46495610,  0.32453191,  0.51291132],\n",
       "          [-0.82156408,  5.68185616,  5.31704807, ...,  0.73511195,  0.84397078, -1.70171261],\n",
       "          ...,\n",
       "          [-3.55817223, -2.65073061, -4.87952709, ..., -0.43602645, -0.19454551, -3.25597215],\n",
       "          [-3.77680111, -2.30316019, -0.61672032, ..., -1.20088565,  0.88405812, -4.87930107],\n",
       "          [-1.46766770,  0.39590454,  2.61664581, ...,  3.73257422, -0.37563682, -1.20129323]],\n",
       "\n",
       "         [[ 1.17508483,  4.17051983,  5.60739136, ...,  1.73512483,  1.05833101,  1.74033546],\n",
       "          [ 1.18404555,  5.03491879,  6.21883774, ...,  3.38918114,  2.60703516, -2.15303135],\n",
       "          [ 1.63790369,  3.34143019,  2.16254997, ...,  1.69300032,  0.05886340, -1.78441763],\n",
       "          ...,\n",
       "          [ 6.06237888,  9.40789890,  4.53884697, ...,  0.50313354,  3.85346818,  1.97051549],\n",
       "          [ 0.10361278,  0.76645768,  3.78905344, ...,  1.30671322,  3.15893793,  3.06304646],\n",
       "          [-1.14553404, -5.64285278, -4.12159634, ..., -2.94442916, -0.80525780,  0.35967502]]],\n",
       "\n",
       "\n",
       "        [[[-6.83570099, -3.99807644, -3.15713978, ..., -7.29098606, -1.32654452, -2.19822907],\n",
       "          [-3.47532129, -1.58950162, -0.14144200, ...,  0.48580295, -0.60616857,  0.50128049],\n",
       "          [-1.85819244,  4.33505106,  5.20300055, ...,  1.08113885,  0.21864331, -0.84281385],\n",
       "          ...,\n",
       "          [-2.75836277, -2.31897449, -4.24374580, ..., -0.94772696, -0.66237378, -3.60359216],\n",
       "          [-3.99743605, -3.03996038, -0.86452436, ..., -0.92028153,  1.10213566, -4.81313515],\n",
       "          [-1.17453766,  0.44929552,  2.52792168, ...,  3.48724842, -0.67079496, -1.46803641]],\n",
       "\n",
       "         [[ 0.69307995,  3.52238798,  4.58986044, ...,  1.30333531,  0.86105859,  1.45057142],\n",
       "          [ 0.54382008,  5.36941910,  5.86092329, ...,  3.42498469,  2.67215586, -1.86470354],\n",
       "          [ 1.15920699,  3.52123213,  2.29172230, ...,  0.58526790, -0.91575289, -1.60358047],\n",
       "          ...,\n",
       "          [ 6.19356441,  8.98126221,  4.09779072, ...,  0.24413550,  3.31901789,  2.00187969],\n",
       "          [-0.26399976,  0.84157604,  3.60708141, ...,  0.94312322,  3.58490896,  3.10246611],\n",
       "          [-1.26842141, -5.78512573, -3.99191785, ..., -2.69472671, -0.77457905, -0.20309298]]],\n",
       "\n",
       "\n",
       "        ...,\n",
       "\n",
       "\n",
       "        [[[-7.11982250, -4.10615730, -3.37944460, ..., -6.56376314, -1.20326173, -1.50179672],\n",
       "          [-3.72668695, -1.62873650,  0.39945915, ...,  1.13890493,  0.18005550,  1.13734007],\n",
       "          [-0.97384423,  5.90624142,  6.19152260, ...,  1.73320627, -0.26638651, -1.46078658],\n",
       "          ...,\n",
       "          [-4.02414751, -2.56561947, -5.42978859, ..., -0.56706154, -0.39729905, -3.05023956],\n",
       "          [-3.66655493, -1.99100447, -1.65986025, ..., -0.35766900,  1.30572438, -4.62873554],\n",
       "          [-1.36878181,  0.93592644,  2.57218981, ...,  3.99847555, -0.41903180, -1.25750935]],\n",
       "\n",
       "         [[ 1.44734406,  3.72885609,  5.54879236, ...,  1.46895385,  1.12023032,  1.62931848],\n",
       "          [ 0.68078357,  5.30370998,  5.78870964, ...,  3.40798712,  2.51796436, -1.98389220],\n",
       "          [ 1.46234322,  2.70035410,  2.43977332, ...,  0.65493381, -1.38173258, -1.89621949],\n",
       "          ...,\n",
       "          [ 6.26768970, 10.31194592,  3.78461885, ...,  0.45189115,  3.33110738,  1.99299741],\n",
       "          [ 0.07490736,  1.00443101,  3.56413364, ...,  0.88696778,  3.17682076,  2.39710927],\n",
       "          [-1.36485827, -5.20981836, -3.45387316, ..., -2.41622591, -0.66130614, -0.17898148]]],\n",
       "\n",
       "\n",
       "        [[[-6.58023930, -4.20085907, -3.84677792, ..., -6.58741188, -0.71737790, -1.32767010],\n",
       "          [-3.95557165, -1.12879086,  0.67705894, ...,  1.26788843, -0.42557418,  0.47348106],\n",
       "          [-1.73408556,  4.73969030,  5.23767281, ...,  0.36561513,  1.12948406, -1.23257375],\n",
       "          ...,\n",
       "          [-3.41790724, -2.23553276, -3.64389610, ...,  0.54705024, -0.69319820, -3.03461123],\n",
       "          [-3.49724436, -2.94332838, -1.82219303, ..., -1.11702609,  0.61954021, -4.76323986],\n",
       "          [-1.14293659,  0.48230982,  2.52368522, ...,  3.09791160, -0.55473560, -1.78074729]],\n",
       "\n",
       "         [[ 0.84251320,  3.88353491,  4.89605951, ...,  1.00600255,  0.74573469,  1.64190614],\n",
       "          [ 0.32754397,  3.79620481,  5.93014812, ...,  2.91304541,  3.07586241, -1.76740050],\n",
       "          [ 1.03797221,  3.52524662,  3.05078840, ...,  0.64414084, -0.21553272, -1.83341694],\n",
       "          ...,\n",
       "          [ 5.92411613,  9.58522701,  3.89309978, ...,  0.32382953,  4.20061779,  1.71000886],\n",
       "          [ 0.42437431,  0.81546032,  3.91597676, ...,  1.88420677,  3.21785784,  2.36909151],\n",
       "          [-1.23667157, -5.71919346, -3.53745985, ..., -2.60312605, -0.94834638, -0.92245221]]],\n",
       "\n",
       "\n",
       "        [[[-6.66156292, -4.15448856, -3.87834549, ..., -7.52517366, -1.90270889, -1.56922269],\n",
       "          [-3.73605251, -1.98659873, -0.30678147, ...,  1.35743535,  0.74212599,  1.10821176],\n",
       "          [-1.58625042,  5.43694353,  6.44412708, ...,  0.73678613,  0.63925099, -1.28257823],\n",
       "          ...,\n",
       "          [-3.51864219, -2.17624760, -4.29465008, ...,  0.52065587, -0.26721644, -3.31495070],\n",
       "          [-4.35066795, -2.71579027, -1.58790076, ..., -1.92788506,  1.42339540, -4.46191120],\n",
       "          [-1.50099349,  1.04560184,  3.07448435, ...,  3.47969007, -0.45559764, -1.28633118]],\n",
       "\n",
       "         [[ 1.54790950,  4.81366158,  5.16799259, ...,  2.83760691,  1.17686331,  1.86212099],\n",
       "          [ 0.67047632,  4.86943913,  5.70290947, ...,  3.55680680,  2.85274792, -1.19679427],\n",
       "          [ 1.14040279,  4.31881428,  2.45135379, ...,  0.43658376, -1.59428740, -1.36429322],\n",
       "          ...,\n",
       "          [ 5.88898468, 10.11412811,  4.11886120, ...,  0.07678288,  4.21346378,  2.43008065],\n",
       "          [-0.16658795,  0.78325796,  3.75267005, ...,  0.76364231,  2.94814754,  2.79521847],\n",
       "          [-1.41485417, -5.77595377, -3.77626276, ..., -2.90330982, -1.22853875, -0.42424563]]]])"
      ]
     },
     "metadata": {},
     "execution_count": 8
    }
   ],
   "source": [
    "paddle.set_device('cpu')\n",
    "input = paddle.ones([12, 3, 256, 256])\n",
    "model = TransAttentionUNet()\n",
    "output = model(input)\n",
    "output"
   ]
  },
  {
   "cell_type": "code",
   "execution_count": 1,
   "metadata": {},
   "outputs": [],
   "source": [
    "from paddleseg.utils.einops.layers.paddle import Rearrange\n",
    "from paddleseg.models.layers import SwinTransformer,swin_t\n",
    "import paddle"
   ]
  },
  {
   "cell_type": "code",
   "execution_count": 2,
   "metadata": {
    "tags": []
   },
   "outputs": [
    {
     "output_type": "stream",
     "name": "stdout",
     "text": [
      "indices (64, 2)\n",
      "indices (64, 2)\n",
      "indices (64, 2)\n",
      "indices (64, 2)\n",
      "indices (64, 2)\n",
      "indices (64, 2)\n",
      "indices (64, 2)\n",
      "indices (64, 2)\n",
      "indices (64, 2)\n",
      "indices (64, 2)\n",
      "indices (64, 2)\n",
      "indices (64, 2)\n",
      "[4, 3, 256, 256]\n",
      "window attention [4, 64, 64, 96]\n",
      "window attention [4, 3, 64, 64, 64] [15, 15] [64, 64, 2]\n"
     ]
    },
    {
     "output_type": "error",
     "ename": "ValueError",
     "evalue": "(InvalidArgument) Currently, VarBase.__getitem__() only allows indexing by Integers, Slices, and tuples of these types, but received Tensor in 1th slice item\n  [Hint: Expected PyCheckInteger(slice_item) || ((((PyObject*)(slice_item))->ob_type) == &PySlice_Type) == true, but received PyCheckInteger(slice_item) || ((((PyObject*)(slice_item))->ob_type) == &PySlice_Type):0 != true:1.] (at D:\\v2.0.0rc1\\paddle\\paddle\\fluid\\pybind\\imperative.cc:375)\n  [Hint: If you need C++ stacktraces for debugging, please set `FLAGS_call_stack_level=2`.]\n",
     "traceback": [
      "\u001b[1;31m---------------------------------------------------------------------------\u001b[0m",
      "\u001b[1;31mValueError\u001b[0m                                Traceback (most recent call last)",
      "\u001b[1;32m<ipython-input-2-3101e37df764>\u001b[0m in \u001b[0;36m<module>\u001b[1;34m\u001b[0m\n\u001b[0;32m      2\u001b[0m \u001b[0mmodel\u001b[0m \u001b[1;33m=\u001b[0m \u001b[0mswin_t\u001b[0m\u001b[1;33m(\u001b[0m\u001b[1;33m)\u001b[0m\u001b[1;33m\u001b[0m\u001b[1;33m\u001b[0m\u001b[0m\n\u001b[0;32m      3\u001b[0m \u001b[0mprint\u001b[0m\u001b[1;33m(\u001b[0m\u001b[0ma\u001b[0m\u001b[1;33m.\u001b[0m\u001b[0mshape\u001b[0m\u001b[1;33m)\u001b[0m\u001b[1;33m\u001b[0m\u001b[1;33m\u001b[0m\u001b[0m\n\u001b[1;32m----> 4\u001b[1;33m \u001b[0mb\u001b[0m \u001b[1;33m=\u001b[0m \u001b[0mmodel\u001b[0m\u001b[1;33m(\u001b[0m\u001b[0ma\u001b[0m\u001b[1;33m)\u001b[0m\u001b[1;33m\u001b[0m\u001b[1;33m\u001b[0m\u001b[0m\n\u001b[0m\u001b[0;32m      5\u001b[0m \u001b[0mb\u001b[0m\u001b[1;33m.\u001b[0m\u001b[0mshape\u001b[0m\u001b[1;33m\u001b[0m\u001b[1;33m\u001b[0m\u001b[0m\n",
      "\u001b[1;32mD:\\Anaconda3\\lib\\site-packages\\paddle\\fluid\\dygraph\\layers.py\u001b[0m in \u001b[0;36m__call__\u001b[1;34m(self, *inputs, **kwargs)\u001b[0m\n\u001b[0;32m    882\u001b[0m                 \u001b[0mself\u001b[0m\u001b[1;33m.\u001b[0m\u001b[0m_built\u001b[0m \u001b[1;33m=\u001b[0m \u001b[1;32mTrue\u001b[0m\u001b[1;33m\u001b[0m\u001b[1;33m\u001b[0m\u001b[0m\n\u001b[0;32m    883\u001b[0m \u001b[1;33m\u001b[0m\u001b[0m\n\u001b[1;32m--> 884\u001b[1;33m             \u001b[0moutputs\u001b[0m \u001b[1;33m=\u001b[0m \u001b[0mself\u001b[0m\u001b[1;33m.\u001b[0m\u001b[0mforward\u001b[0m\u001b[1;33m(\u001b[0m\u001b[1;33m*\u001b[0m\u001b[0minputs\u001b[0m\u001b[1;33m,\u001b[0m \u001b[1;33m**\u001b[0m\u001b[0mkwargs\u001b[0m\u001b[1;33m)\u001b[0m\u001b[1;33m\u001b[0m\u001b[1;33m\u001b[0m\u001b[0m\n\u001b[0m\u001b[0;32m    885\u001b[0m \u001b[1;33m\u001b[0m\u001b[0m\n\u001b[0;32m    886\u001b[0m             \u001b[1;32mfor\u001b[0m \u001b[0mforward_post_hook\u001b[0m \u001b[1;32min\u001b[0m \u001b[0mself\u001b[0m\u001b[1;33m.\u001b[0m\u001b[0m_forward_post_hooks\u001b[0m\u001b[1;33m.\u001b[0m\u001b[0mvalues\u001b[0m\u001b[1;33m(\u001b[0m\u001b[1;33m)\u001b[0m\u001b[1;33m:\u001b[0m\u001b[1;33m\u001b[0m\u001b[1;33m\u001b[0m\u001b[0m\n",
      "\u001b[1;32mg:\\TJUZQC\\code\\python\\PaddleSeg_dygraph\\paddleseg\\models\\layers\\swin_transformer.py\u001b[0m in \u001b[0;36mforward\u001b[1;34m(self, img)\u001b[0m\n\u001b[0;32m    221\u001b[0m \u001b[1;33m\u001b[0m\u001b[0m\n\u001b[0;32m    222\u001b[0m     \u001b[1;32mdef\u001b[0m \u001b[0mforward\u001b[0m\u001b[1;33m(\u001b[0m\u001b[0mself\u001b[0m\u001b[1;33m,\u001b[0m \u001b[0mimg\u001b[0m\u001b[1;33m)\u001b[0m\u001b[1;33m:\u001b[0m\u001b[1;33m\u001b[0m\u001b[1;33m\u001b[0m\u001b[0m\n\u001b[1;32m--> 223\u001b[1;33m         \u001b[0mx\u001b[0m \u001b[1;33m=\u001b[0m \u001b[0mself\u001b[0m\u001b[1;33m.\u001b[0m\u001b[0mstage1\u001b[0m\u001b[1;33m(\u001b[0m\u001b[0mimg\u001b[0m\u001b[1;33m)\u001b[0m\u001b[1;33m\u001b[0m\u001b[1;33m\u001b[0m\u001b[0m\n\u001b[0m\u001b[0;32m    224\u001b[0m         \u001b[0mprint\u001b[0m\u001b[1;33m(\u001b[0m\u001b[0mx\u001b[0m\u001b[1;33m.\u001b[0m\u001b[0mshape\u001b[0m\u001b[1;33m)\u001b[0m\u001b[1;33m\u001b[0m\u001b[1;33m\u001b[0m\u001b[0m\n\u001b[0;32m    225\u001b[0m         \u001b[0mx\u001b[0m \u001b[1;33m=\u001b[0m \u001b[0mself\u001b[0m\u001b[1;33m.\u001b[0m\u001b[0mstage2\u001b[0m\u001b[1;33m(\u001b[0m\u001b[0mx\u001b[0m\u001b[1;33m)\u001b[0m\u001b[1;33m\u001b[0m\u001b[1;33m\u001b[0m\u001b[0m\n",
      "\u001b[1;32mD:\\Anaconda3\\lib\\site-packages\\paddle\\fluid\\dygraph\\layers.py\u001b[0m in \u001b[0;36m__call__\u001b[1;34m(self, *inputs, **kwargs)\u001b[0m\n\u001b[0;32m    882\u001b[0m                 \u001b[0mself\u001b[0m\u001b[1;33m.\u001b[0m\u001b[0m_built\u001b[0m \u001b[1;33m=\u001b[0m \u001b[1;32mTrue\u001b[0m\u001b[1;33m\u001b[0m\u001b[1;33m\u001b[0m\u001b[0m\n\u001b[0;32m    883\u001b[0m \u001b[1;33m\u001b[0m\u001b[0m\n\u001b[1;32m--> 884\u001b[1;33m             \u001b[0moutputs\u001b[0m \u001b[1;33m=\u001b[0m \u001b[0mself\u001b[0m\u001b[1;33m.\u001b[0m\u001b[0mforward\u001b[0m\u001b[1;33m(\u001b[0m\u001b[1;33m*\u001b[0m\u001b[0minputs\u001b[0m\u001b[1;33m,\u001b[0m \u001b[1;33m**\u001b[0m\u001b[0mkwargs\u001b[0m\u001b[1;33m)\u001b[0m\u001b[1;33m\u001b[0m\u001b[1;33m\u001b[0m\u001b[0m\n\u001b[0m\u001b[0;32m    885\u001b[0m \u001b[1;33m\u001b[0m\u001b[0m\n\u001b[0;32m    886\u001b[0m             \u001b[1;32mfor\u001b[0m \u001b[0mforward_post_hook\u001b[0m \u001b[1;32min\u001b[0m \u001b[0mself\u001b[0m\u001b[1;33m.\u001b[0m\u001b[0m_forward_post_hooks\u001b[0m\u001b[1;33m.\u001b[0m\u001b[0mvalues\u001b[0m\u001b[1;33m(\u001b[0m\u001b[1;33m)\u001b[0m\u001b[1;33m:\u001b[0m\u001b[1;33m\u001b[0m\u001b[1;33m\u001b[0m\u001b[0m\n",
      "\u001b[1;32mg:\\TJUZQC\\code\\python\\PaddleSeg_dygraph\\paddleseg\\models\\layers\\swin_transformer.py\u001b[0m in \u001b[0;36mforward\u001b[1;34m(self, x)\u001b[0m\n\u001b[0;32m    193\u001b[0m         \u001b[0mx\u001b[0m \u001b[1;33m=\u001b[0m \u001b[0mself\u001b[0m\u001b[1;33m.\u001b[0m\u001b[0mpatch_partition\u001b[0m\u001b[1;33m(\u001b[0m\u001b[0mx\u001b[0m\u001b[1;33m)\u001b[0m\u001b[1;33m\u001b[0m\u001b[1;33m\u001b[0m\u001b[0m\n\u001b[0;32m    194\u001b[0m         \u001b[1;32mfor\u001b[0m \u001b[0mregular_block\u001b[0m\u001b[1;33m,\u001b[0m \u001b[0mshifted_block\u001b[0m \u001b[1;32min\u001b[0m \u001b[0mself\u001b[0m\u001b[1;33m.\u001b[0m\u001b[0mlayers\u001b[0m\u001b[1;33m:\u001b[0m\u001b[1;33m\u001b[0m\u001b[1;33m\u001b[0m\u001b[0m\n\u001b[1;32m--> 195\u001b[1;33m             \u001b[0mx\u001b[0m \u001b[1;33m=\u001b[0m \u001b[0mregular_block\u001b[0m\u001b[1;33m(\u001b[0m\u001b[0mx\u001b[0m\u001b[1;33m)\u001b[0m\u001b[1;33m\u001b[0m\u001b[1;33m\u001b[0m\u001b[0m\n\u001b[0m\u001b[0;32m    196\u001b[0m             \u001b[0mx\u001b[0m \u001b[1;33m=\u001b[0m \u001b[0mshifted_block\u001b[0m\u001b[1;33m(\u001b[0m\u001b[0mx\u001b[0m\u001b[1;33m)\u001b[0m\u001b[1;33m\u001b[0m\u001b[1;33m\u001b[0m\u001b[0m\n\u001b[0;32m    197\u001b[0m         \u001b[1;32mreturn\u001b[0m \u001b[0mx\u001b[0m\u001b[1;33m.\u001b[0m\u001b[0mtranspose\u001b[0m\u001b[1;33m(\u001b[0m\u001b[1;33m[\u001b[0m\u001b[1;36m0\u001b[0m\u001b[1;33m,\u001b[0m \u001b[1;36m3\u001b[0m\u001b[1;33m,\u001b[0m \u001b[1;36m1\u001b[0m\u001b[1;33m,\u001b[0m \u001b[1;36m2\u001b[0m\u001b[1;33m]\u001b[0m\u001b[1;33m)\u001b[0m\u001b[1;33m\u001b[0m\u001b[1;33m\u001b[0m\u001b[0m\n",
      "\u001b[1;32mD:\\Anaconda3\\lib\\site-packages\\paddle\\fluid\\dygraph\\layers.py\u001b[0m in \u001b[0;36m__call__\u001b[1;34m(self, *inputs, **kwargs)\u001b[0m\n\u001b[0;32m    882\u001b[0m                 \u001b[0mself\u001b[0m\u001b[1;33m.\u001b[0m\u001b[0m_built\u001b[0m \u001b[1;33m=\u001b[0m \u001b[1;32mTrue\u001b[0m\u001b[1;33m\u001b[0m\u001b[1;33m\u001b[0m\u001b[0m\n\u001b[0;32m    883\u001b[0m \u001b[1;33m\u001b[0m\u001b[0m\n\u001b[1;32m--> 884\u001b[1;33m             \u001b[0moutputs\u001b[0m \u001b[1;33m=\u001b[0m \u001b[0mself\u001b[0m\u001b[1;33m.\u001b[0m\u001b[0mforward\u001b[0m\u001b[1;33m(\u001b[0m\u001b[1;33m*\u001b[0m\u001b[0minputs\u001b[0m\u001b[1;33m,\u001b[0m \u001b[1;33m**\u001b[0m\u001b[0mkwargs\u001b[0m\u001b[1;33m)\u001b[0m\u001b[1;33m\u001b[0m\u001b[1;33m\u001b[0m\u001b[0m\n\u001b[0m\u001b[0;32m    885\u001b[0m \u001b[1;33m\u001b[0m\u001b[0m\n\u001b[0;32m    886\u001b[0m             \u001b[1;32mfor\u001b[0m \u001b[0mforward_post_hook\u001b[0m \u001b[1;32min\u001b[0m \u001b[0mself\u001b[0m\u001b[1;33m.\u001b[0m\u001b[0m_forward_post_hooks\u001b[0m\u001b[1;33m.\u001b[0m\u001b[0mvalues\u001b[0m\u001b[1;33m(\u001b[0m\u001b[1;33m)\u001b[0m\u001b[1;33m:\u001b[0m\u001b[1;33m\u001b[0m\u001b[1;33m\u001b[0m\u001b[0m\n",
      "\u001b[1;32mg:\\TJUZQC\\code\\python\\PaddleSeg_dygraph\\paddleseg\\models\\layers\\swin_transformer.py\u001b[0m in \u001b[0;36mforward\u001b[1;34m(self, x)\u001b[0m\n\u001b[0;32m    154\u001b[0m \u001b[1;33m\u001b[0m\u001b[0m\n\u001b[0;32m    155\u001b[0m     \u001b[1;32mdef\u001b[0m \u001b[0mforward\u001b[0m\u001b[1;33m(\u001b[0m\u001b[0mself\u001b[0m\u001b[1;33m,\u001b[0m \u001b[0mx\u001b[0m\u001b[1;33m)\u001b[0m\u001b[1;33m:\u001b[0m\u001b[1;33m\u001b[0m\u001b[1;33m\u001b[0m\u001b[0m\n\u001b[1;32m--> 156\u001b[1;33m         \u001b[0mx\u001b[0m \u001b[1;33m=\u001b[0m \u001b[0mself\u001b[0m\u001b[1;33m.\u001b[0m\u001b[0mattention_block\u001b[0m\u001b[1;33m(\u001b[0m\u001b[0mx\u001b[0m\u001b[1;33m)\u001b[0m\u001b[1;33m\u001b[0m\u001b[1;33m\u001b[0m\u001b[0m\n\u001b[0m\u001b[0;32m    157\u001b[0m         \u001b[0mx\u001b[0m \u001b[1;33m=\u001b[0m \u001b[0mself\u001b[0m\u001b[1;33m.\u001b[0m\u001b[0mmlp_block\u001b[0m\u001b[1;33m(\u001b[0m\u001b[0mx\u001b[0m\u001b[1;33m)\u001b[0m\u001b[1;33m\u001b[0m\u001b[1;33m\u001b[0m\u001b[0m\n\u001b[0;32m    158\u001b[0m         \u001b[1;32mreturn\u001b[0m \u001b[0mx\u001b[0m\u001b[1;33m\u001b[0m\u001b[1;33m\u001b[0m\u001b[0m\n",
      "\u001b[1;32mD:\\Anaconda3\\lib\\site-packages\\paddle\\fluid\\dygraph\\layers.py\u001b[0m in \u001b[0;36m__call__\u001b[1;34m(self, *inputs, **kwargs)\u001b[0m\n\u001b[0;32m    882\u001b[0m                 \u001b[0mself\u001b[0m\u001b[1;33m.\u001b[0m\u001b[0m_built\u001b[0m \u001b[1;33m=\u001b[0m \u001b[1;32mTrue\u001b[0m\u001b[1;33m\u001b[0m\u001b[1;33m\u001b[0m\u001b[0m\n\u001b[0;32m    883\u001b[0m \u001b[1;33m\u001b[0m\u001b[0m\n\u001b[1;32m--> 884\u001b[1;33m             \u001b[0moutputs\u001b[0m \u001b[1;33m=\u001b[0m \u001b[0mself\u001b[0m\u001b[1;33m.\u001b[0m\u001b[0mforward\u001b[0m\u001b[1;33m(\u001b[0m\u001b[1;33m*\u001b[0m\u001b[0minputs\u001b[0m\u001b[1;33m,\u001b[0m \u001b[1;33m**\u001b[0m\u001b[0mkwargs\u001b[0m\u001b[1;33m)\u001b[0m\u001b[1;33m\u001b[0m\u001b[1;33m\u001b[0m\u001b[0m\n\u001b[0m\u001b[0;32m    885\u001b[0m \u001b[1;33m\u001b[0m\u001b[0m\n\u001b[0;32m    886\u001b[0m             \u001b[1;32mfor\u001b[0m \u001b[0mforward_post_hook\u001b[0m \u001b[1;32min\u001b[0m \u001b[0mself\u001b[0m\u001b[1;33m.\u001b[0m\u001b[0m_forward_post_hooks\u001b[0m\u001b[1;33m.\u001b[0m\u001b[0mvalues\u001b[0m\u001b[1;33m(\u001b[0m\u001b[1;33m)\u001b[0m\u001b[1;33m:\u001b[0m\u001b[1;33m\u001b[0m\u001b[1;33m\u001b[0m\u001b[0m\n",
      "\u001b[1;32mg:\\TJUZQC\\code\\python\\PaddleSeg_dygraph\\paddleseg\\models\\layers\\swin_transformer.py\u001b[0m in \u001b[0;36mforward\u001b[1;34m(self, x, **kwargs)\u001b[0m\n\u001b[0;32m     31\u001b[0m \u001b[1;33m\u001b[0m\u001b[0m\n\u001b[0;32m     32\u001b[0m     \u001b[1;32mdef\u001b[0m \u001b[0mforward\u001b[0m\u001b[1;33m(\u001b[0m\u001b[0mself\u001b[0m\u001b[1;33m,\u001b[0m \u001b[0mx\u001b[0m\u001b[1;33m,\u001b[0m \u001b[1;33m**\u001b[0m\u001b[0mkwargs\u001b[0m\u001b[1;33m)\u001b[0m\u001b[1;33m:\u001b[0m\u001b[1;33m\u001b[0m\u001b[1;33m\u001b[0m\u001b[0m\n\u001b[1;32m---> 33\u001b[1;33m         \u001b[1;32mreturn\u001b[0m \u001b[0mself\u001b[0m\u001b[1;33m.\u001b[0m\u001b[0mfn\u001b[0m\u001b[1;33m(\u001b[0m\u001b[0mx\u001b[0m\u001b[1;33m,\u001b[0m \u001b[1;33m**\u001b[0m\u001b[0mkwargs\u001b[0m\u001b[1;33m)\u001b[0m \u001b[1;33m+\u001b[0m \u001b[0mx\u001b[0m\u001b[1;33m\u001b[0m\u001b[1;33m\u001b[0m\u001b[0m\n\u001b[0m\u001b[0;32m     34\u001b[0m \u001b[1;33m\u001b[0m\u001b[0m\n\u001b[0;32m     35\u001b[0m \u001b[1;32mclass\u001b[0m \u001b[0mPreNorm\u001b[0m\u001b[1;33m(\u001b[0m\u001b[0mnn\u001b[0m\u001b[1;33m.\u001b[0m\u001b[0mLayer\u001b[0m\u001b[1;33m)\u001b[0m\u001b[1;33m:\u001b[0m\u001b[1;33m\u001b[0m\u001b[1;33m\u001b[0m\u001b[0m\n",
      "\u001b[1;32mD:\\Anaconda3\\lib\\site-packages\\paddle\\fluid\\dygraph\\layers.py\u001b[0m in \u001b[0;36m__call__\u001b[1;34m(self, *inputs, **kwargs)\u001b[0m\n\u001b[0;32m    882\u001b[0m                 \u001b[0mself\u001b[0m\u001b[1;33m.\u001b[0m\u001b[0m_built\u001b[0m \u001b[1;33m=\u001b[0m \u001b[1;32mTrue\u001b[0m\u001b[1;33m\u001b[0m\u001b[1;33m\u001b[0m\u001b[0m\n\u001b[0;32m    883\u001b[0m \u001b[1;33m\u001b[0m\u001b[0m\n\u001b[1;32m--> 884\u001b[1;33m             \u001b[0moutputs\u001b[0m \u001b[1;33m=\u001b[0m \u001b[0mself\u001b[0m\u001b[1;33m.\u001b[0m\u001b[0mforward\u001b[0m\u001b[1;33m(\u001b[0m\u001b[1;33m*\u001b[0m\u001b[0minputs\u001b[0m\u001b[1;33m,\u001b[0m \u001b[1;33m**\u001b[0m\u001b[0mkwargs\u001b[0m\u001b[1;33m)\u001b[0m\u001b[1;33m\u001b[0m\u001b[1;33m\u001b[0m\u001b[0m\n\u001b[0m\u001b[0;32m    885\u001b[0m \u001b[1;33m\u001b[0m\u001b[0m\n\u001b[0;32m    886\u001b[0m             \u001b[1;32mfor\u001b[0m \u001b[0mforward_post_hook\u001b[0m \u001b[1;32min\u001b[0m \u001b[0mself\u001b[0m\u001b[1;33m.\u001b[0m\u001b[0m_forward_post_hooks\u001b[0m\u001b[1;33m.\u001b[0m\u001b[0mvalues\u001b[0m\u001b[1;33m(\u001b[0m\u001b[1;33m)\u001b[0m\u001b[1;33m:\u001b[0m\u001b[1;33m\u001b[0m\u001b[1;33m\u001b[0m\u001b[0m\n",
      "\u001b[1;32mg:\\TJUZQC\\code\\python\\PaddleSeg_dygraph\\paddleseg\\models\\layers\\swin_transformer.py\u001b[0m in \u001b[0;36mforward\u001b[1;34m(self, x, **kwargs)\u001b[0m\n\u001b[0;32m     40\u001b[0m \u001b[1;33m\u001b[0m\u001b[0m\n\u001b[0;32m     41\u001b[0m     \u001b[1;32mdef\u001b[0m \u001b[0mforward\u001b[0m\u001b[1;33m(\u001b[0m\u001b[0mself\u001b[0m\u001b[1;33m,\u001b[0m \u001b[0mx\u001b[0m\u001b[1;33m,\u001b[0m \u001b[1;33m**\u001b[0m\u001b[0mkwargs\u001b[0m\u001b[1;33m)\u001b[0m\u001b[1;33m:\u001b[0m\u001b[1;33m\u001b[0m\u001b[1;33m\u001b[0m\u001b[0m\n\u001b[1;32m---> 42\u001b[1;33m         \u001b[1;32mreturn\u001b[0m \u001b[0mself\u001b[0m\u001b[1;33m.\u001b[0m\u001b[0mfn\u001b[0m\u001b[1;33m(\u001b[0m\u001b[0mself\u001b[0m\u001b[1;33m.\u001b[0m\u001b[0mnorm\u001b[0m\u001b[1;33m(\u001b[0m\u001b[0mx\u001b[0m\u001b[1;33m)\u001b[0m\u001b[1;33m,\u001b[0m \u001b[1;33m**\u001b[0m\u001b[0mkwargs\u001b[0m\u001b[1;33m)\u001b[0m\u001b[1;33m\u001b[0m\u001b[1;33m\u001b[0m\u001b[0m\n\u001b[0m\u001b[0;32m     43\u001b[0m \u001b[1;33m\u001b[0m\u001b[0m\n\u001b[0;32m     44\u001b[0m \u001b[1;32mclass\u001b[0m \u001b[0mFeedForward\u001b[0m\u001b[1;33m(\u001b[0m\u001b[0mnn\u001b[0m\u001b[1;33m.\u001b[0m\u001b[0mLayer\u001b[0m\u001b[1;33m)\u001b[0m\u001b[1;33m:\u001b[0m\u001b[1;33m\u001b[0m\u001b[1;33m\u001b[0m\u001b[0m\n",
      "\u001b[1;32mD:\\Anaconda3\\lib\\site-packages\\paddle\\fluid\\dygraph\\layers.py\u001b[0m in \u001b[0;36m__call__\u001b[1;34m(self, *inputs, **kwargs)\u001b[0m\n\u001b[0;32m    882\u001b[0m                 \u001b[0mself\u001b[0m\u001b[1;33m.\u001b[0m\u001b[0m_built\u001b[0m \u001b[1;33m=\u001b[0m \u001b[1;32mTrue\u001b[0m\u001b[1;33m\u001b[0m\u001b[1;33m\u001b[0m\u001b[0m\n\u001b[0;32m    883\u001b[0m \u001b[1;33m\u001b[0m\u001b[0m\n\u001b[1;32m--> 884\u001b[1;33m             \u001b[0moutputs\u001b[0m \u001b[1;33m=\u001b[0m \u001b[0mself\u001b[0m\u001b[1;33m.\u001b[0m\u001b[0mforward\u001b[0m\u001b[1;33m(\u001b[0m\u001b[1;33m*\u001b[0m\u001b[0minputs\u001b[0m\u001b[1;33m,\u001b[0m \u001b[1;33m**\u001b[0m\u001b[0mkwargs\u001b[0m\u001b[1;33m)\u001b[0m\u001b[1;33m\u001b[0m\u001b[1;33m\u001b[0m\u001b[0m\n\u001b[0m\u001b[0;32m    885\u001b[0m \u001b[1;33m\u001b[0m\u001b[0m\n\u001b[0;32m    886\u001b[0m             \u001b[1;32mfor\u001b[0m \u001b[0mforward_post_hook\u001b[0m \u001b[1;32min\u001b[0m \u001b[0mself\u001b[0m\u001b[1;33m.\u001b[0m\u001b[0m_forward_post_hooks\u001b[0m\u001b[1;33m.\u001b[0m\u001b[0mvalues\u001b[0m\u001b[1;33m(\u001b[0m\u001b[1;33m)\u001b[0m\u001b[1;33m:\u001b[0m\u001b[1;33m\u001b[0m\u001b[1;33m\u001b[0m\u001b[0m\n",
      "\u001b[1;32mg:\\TJUZQC\\code\\python\\PaddleSeg_dygraph\\paddleseg\\models\\layers\\swin_transformer.py\u001b[0m in \u001b[0;36mforward\u001b[1;34m(self, x)\u001b[0m\n\u001b[0;32m    123\u001b[0m         \u001b[0mprint\u001b[0m\u001b[1;33m(\u001b[0m\u001b[1;34m\"window attention\"\u001b[0m\u001b[1;33m,\u001b[0m \u001b[0mdots\u001b[0m\u001b[1;33m.\u001b[0m\u001b[0mshape\u001b[0m\u001b[1;33m,\u001b[0m \u001b[0mself\u001b[0m\u001b[1;33m.\u001b[0m\u001b[0mpos_embedding\u001b[0m\u001b[1;33m.\u001b[0m\u001b[0mshape\u001b[0m\u001b[1;33m,\u001b[0m \u001b[0mself\u001b[0m\u001b[1;33m.\u001b[0m\u001b[0mrelative_indices\u001b[0m\u001b[1;33m.\u001b[0m\u001b[0mshape\u001b[0m\u001b[1;33m)\u001b[0m\u001b[1;33m\u001b[0m\u001b[1;33m\u001b[0m\u001b[0m\n\u001b[0;32m    124\u001b[0m         \u001b[1;32mif\u001b[0m \u001b[0mself\u001b[0m\u001b[1;33m.\u001b[0m\u001b[0mrelative_pos_embedding\u001b[0m\u001b[1;33m:\u001b[0m\u001b[1;33m\u001b[0m\u001b[1;33m\u001b[0m\u001b[0m\n\u001b[1;32m--> 125\u001b[1;33m             \u001b[0mdots\u001b[0m \u001b[1;33m+=\u001b[0m \u001b[0mself\u001b[0m\u001b[1;33m.\u001b[0m\u001b[0mpos_embedding\u001b[0m\u001b[1;33m[\u001b[0m\u001b[0mself\u001b[0m\u001b[1;33m.\u001b[0m\u001b[0mrelative_indices\u001b[0m\u001b[1;33m[\u001b[0m\u001b[1;33m:\u001b[0m\u001b[1;33m,\u001b[0m \u001b[1;33m:\u001b[0m\u001b[1;33m,\u001b[0m \u001b[1;36m0\u001b[0m\u001b[1;33m]\u001b[0m\u001b[1;33m,\u001b[0m \u001b[0mself\u001b[0m\u001b[1;33m.\u001b[0m\u001b[0mrelative_indices\u001b[0m\u001b[1;33m[\u001b[0m\u001b[1;33m:\u001b[0m\u001b[1;33m,\u001b[0m \u001b[1;33m:\u001b[0m\u001b[1;33m,\u001b[0m \u001b[1;36m1\u001b[0m\u001b[1;33m]\u001b[0m\u001b[1;33m]\u001b[0m\u001b[1;33m\u001b[0m\u001b[1;33m\u001b[0m\u001b[0m\n\u001b[0m\u001b[0;32m    126\u001b[0m         \u001b[1;32melse\u001b[0m\u001b[1;33m:\u001b[0m\u001b[1;33m\u001b[0m\u001b[1;33m\u001b[0m\u001b[0m\n\u001b[0;32m    127\u001b[0m             \u001b[0mdots\u001b[0m \u001b[1;33m+=\u001b[0m \u001b[0mself\u001b[0m\u001b[1;33m.\u001b[0m\u001b[0mpos_embedding\u001b[0m\u001b[1;33m\u001b[0m\u001b[1;33m\u001b[0m\u001b[0m\n",
      "\u001b[1;31mValueError\u001b[0m: (InvalidArgument) Currently, VarBase.__getitem__() only allows indexing by Integers, Slices, and tuples of these types, but received Tensor in 1th slice item\n  [Hint: Expected PyCheckInteger(slice_item) || ((((PyObject*)(slice_item))->ob_type) == &PySlice_Type) == true, but received PyCheckInteger(slice_item) || ((((PyObject*)(slice_item))->ob_type) == &PySlice_Type):0 != true:1.] (at D:\\v2.0.0rc1\\paddle\\paddle\\fluid\\pybind\\imperative.cc:375)\n  [Hint: If you need C++ stacktraces for debugging, please set `FLAGS_call_stack_level=2`.]\n"
     ]
    }
   ],
   "source": [
    "a = paddle.ones([4,3,256,256])\n",
    "model = swin_t()\n",
    "print(a.shape)\n",
    "b = model(a)\n",
    "b.shape"
   ]
  },
  {
   "cell_type": "code",
   "execution_count": 4,
   "metadata": {},
   "outputs": [],
   "source": [
    "import torch\n",
    "import numpy as np"
   ]
  },
  {
   "cell_type": "code",
   "execution_count": 5,
   "metadata": {},
   "outputs": [],
   "source": [
    "def get_relative_distances(window_size):\n",
    "    indices = torch.tensor(np.array([[x, y] for x in range(window_size) for y in range(window_size)]))\n",
    "    distances = indices[None, :, :] - indices[:, None, :]\n",
    "    return distances"
   ]
  },
  {
   "cell_type": "code",
   "execution_count": 8,
   "metadata": {},
   "outputs": [
    {
     "output_type": "stream",
     "name": "stdout",
     "text": [
      "torch.Size([64, 64])\n"
     ]
    }
   ],
   "source": [
    "a = get_relative_distances(8)+7\n",
    "pos_embedding = torch.nn.Parameter(torch.randn(2 * 8 - 1, 2 * 8 - 1))\n",
    "print(a[:,:,0].shape)"
   ]
  },
  {
   "cell_type": "code",
   "execution_count": null,
   "metadata": {},
   "outputs": [],
   "source": []
  }
 ]
}