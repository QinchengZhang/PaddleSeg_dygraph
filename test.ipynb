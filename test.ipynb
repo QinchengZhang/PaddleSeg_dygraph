{
 "metadata": {
  "language_info": {
   "codemirror_mode": {
    "name": "ipython",
    "version": 3
   },
   "file_extension": ".py",
   "mimetype": "text/x-python",
   "name": "python",
   "nbconvert_exporter": "python",
   "pygments_lexer": "ipython3",
   "version": "3.7.6-final"
  },
  "orig_nbformat": 2,
  "kernelspec": {
   "name": "python3",
   "display_name": "Python 3",
   "language": "python"
  }
 },
 "nbformat": 4,
 "nbformat_minor": 2,
 "cells": [
  {
   "cell_type": "code",
   "execution_count": 1,
   "metadata": {},
   "outputs": [
    {
     "output_type": "stream",
     "name": "stdout",
     "text": [
      "^C\n"
     ]
    }
   ],
   "source": [
    "!conda activate base\n",
    "!python train.py --config benchmark/hsunet.yml --save_dir saved_model --num_workers 8 --do_eval --use_vdl"
   ]
  },
  {
   "cell_type": "code",
   "execution_count": 2,
   "metadata": {},
   "outputs": [
    {
     "output_type": "stream",
     "name": "stdout",
     "text": [
      "[1, 512, 32, 32] [1, 512, 32, 32] \n",
      "[1, 512, 32, 32]\n",
      "[1, 256, 64, 64] [1, 256, 64, 64] [1, 256, 64, 64]\n",
      "[1, 256, 64, 64]\n",
      "[1, 128, 128, 128] [1, 128, 128, 128] [1, 128, 128, 128]\n",
      "[1, 128, 128, 128]\n",
      "[1, 64, 256, 256] [1, 64, 256, 256] [1, 64, 256, 256]\n",
      "[1, 64, 256, 256]\n",
      "[1, 2, 256, 256]\n"
     ]
    }
   ],
   "source": [
    "from paddleseg.models import HS_Att_UNet\n",
    "import paddle\n",
    "paddle.set_device('cpu')\n",
    "model = HS_Att_UNet(2)\n",
    "input = paddle.ones([1, 3, 256, 256])\n",
    "label = paddle.ones([1, 2, 256, 256])\n",
    "target = model(input)\n",
    "print(target[0].shape)"
   ]
  },
  {
   "cell_type": "code",
   "execution_count": null,
   "metadata": {},
   "outputs": [],
   "source": []
  }
 ]
}